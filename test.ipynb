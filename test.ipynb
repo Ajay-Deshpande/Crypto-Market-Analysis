{
 "cells": [
  {
   "cell_type": "code",
   "execution_count": 1,
   "metadata": {},
   "outputs": [],
   "source": [
    "news_urls = ['https://cointelegraph.com/news/bitcoin-slides-3-btc-price-69k-next',\n",
    "                           \"https://cointelegraph.com/news/50-female-crypto-investors-prefer-long-term-strategies-survey\"]"
   ]
  },
  {
   "cell_type": "code",
   "execution_count": 2,
   "metadata": {},
   "outputs": [],
   "source": [
    "import requests"
   ]
  },
  {
   "cell_type": "code",
   "execution_count": 7,
   "metadata": {},
   "outputs": [],
   "source": [
    "from bs4 import BeautifulSoup\n",
    "\n",
    "HEADER_TEMPLATE = {\n",
    "            'User-Agent': 'Mozilla/5.0 (Windows NT 10.0; Win64; x64) AppleWebKit/537.36 (KHTML, like Gecko) Chrome/96.0.4664.45 Safari/537.36'\n",
    "}\n",
    "\n",
    "def news_parser(url):\n",
    "    res = requests.get(url, headers=HEADER_TEMPLATE)\n",
    "    if res.status_code in range(300, 600):\n",
    "        return \"\"\n",
    "    soup = BeautifulSoup(res.content)\n",
    "    return soup.find('article').text\n",
    "    \n",
    "t = news_parser(news_urls[0])"
   ]
  },
  {
   "cell_type": "code",
   "execution_count": null,
   "metadata": {},
   "outputs": [],
   "source": []
  }
 ],
 "metadata": {
  "kernelspec": {
   "display_name": "News_HF_pipeline",
   "language": "python",
   "name": "venv"
  },
  "language_info": {
   "codemirror_mode": {
    "name": "ipython",
    "version": 3
   },
   "file_extension": ".py",
   "mimetype": "text/x-python",
   "name": "python",
   "nbconvert_exporter": "python",
   "pygments_lexer": "ipython3",
   "version": "3.11.5"
  }
 },
 "nbformat": 4,
 "nbformat_minor": 2
}
