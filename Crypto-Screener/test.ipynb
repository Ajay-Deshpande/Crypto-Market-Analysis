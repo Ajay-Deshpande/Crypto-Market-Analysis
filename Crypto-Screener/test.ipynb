{
 "cells": [
  {
   "cell_type": "code",
   "execution_count": 99,
   "metadata": {},
   "outputs": [
    {
     "data": {
      "text/html": [
       "<div>\n",
       "<style scoped>\n",
       "    .dataframe tbody tr th:only-of-type {\n",
       "        vertical-align: middle;\n",
       "    }\n",
       "\n",
       "    .dataframe tbody tr th {\n",
       "        vertical-align: top;\n",
       "    }\n",
       "\n",
       "    .dataframe thead th {\n",
       "        text-align: right;\n",
       "    }\n",
       "</style>\n",
       "<table border=\"1\" class=\"dataframe\">\n",
       "  <thead>\n",
       "    <tr style=\"text-align: right;\">\n",
       "      <th></th>\n",
       "      <th>total_value_traded</th>\n",
       "    </tr>\n",
       "  </thead>\n",
       "  <tbody>\n",
       "    <tr>\n",
       "      <th>count</th>\n",
       "      <td>5.000000e+01</td>\n",
       "    </tr>\n",
       "    <tr>\n",
       "      <th>mean</th>\n",
       "      <td>6.204778e+06</td>\n",
       "    </tr>\n",
       "    <tr>\n",
       "      <th>std</th>\n",
       "      <td>2.114368e+07</td>\n",
       "    </tr>\n",
       "    <tr>\n",
       "      <th>min</th>\n",
       "      <td>1.376423e+02</td>\n",
       "    </tr>\n",
       "    <tr>\n",
       "      <th>25%</th>\n",
       "      <td>4.726753e+03</td>\n",
       "    </tr>\n",
       "    <tr>\n",
       "      <th>50%</th>\n",
       "      <td>1.008564e+05</td>\n",
       "    </tr>\n",
       "    <tr>\n",
       "      <th>75%</th>\n",
       "      <td>2.841793e+05</td>\n",
       "    </tr>\n",
       "    <tr>\n",
       "      <th>max</th>\n",
       "      <td>1.281415e+08</td>\n",
       "    </tr>\n",
       "  </tbody>\n",
       "</table>\n",
       "</div>"
      ],
      "text/plain": [
       "       total_value_traded\n",
       "count        5.000000e+01\n",
       "mean         6.204778e+06\n",
       "std          2.114368e+07\n",
       "min          1.376423e+02\n",
       "25%          4.726753e+03\n",
       "50%          1.008564e+05\n",
       "75%          2.841793e+05\n",
       "max          1.281415e+08"
      ]
     },
     "execution_count": 99,
     "metadata": {},
     "output_type": "execute_result"
    }
   ],
   "source": [
    "Query().select('total_value_traded').set_markets('coin').get_scanner_data()[1].describe()"
   ]
  },
  {
   "cell_type": "code",
   "execution_count": 111,
   "metadata": {},
   "outputs": [
    {
     "data": {
      "text/plain": [
       "49"
      ]
     },
     "execution_count": 111,
     "metadata": {},
     "output_type": "execute_result"
    }
   ],
   "source": [
    "from tradingview_screener import Query, col\n",
    "\n",
    "ticker_count, df = Query().select('market_cap_calc', 'name', 'volume', 'open', 'high', 'low', 'close'\n",
    "                    ).where(\n",
    "                        col(\"market_cap_calc\") >= 10 ** 8,\n",
    "                        col('SMA200') > col(\"close\"),\n",
    "                        col('SMA50') > col(\"SMA200\"),\n",
    "                        col(\"RSI\").between(30, 75),\n",
    "                ).limit(5).set_markets('coin').get_scanner_data()\n",
    "ticker_count    "
   ]
  },
  {
   "cell_type": "code",
   "execution_count": 108,
   "metadata": {},
   "outputs": [
    {
     "data": {
      "text/plain": [
       "416"
      ]
     },
     "execution_count": 108,
     "metadata": {},
     "output_type": "execute_result"
    }
   ],
   "source": [
    "from tradingview_screener import Query, col\n",
    "\n",
    "ticker_count, df = Query().select('market_cap_calc', 'name', 'volume', 'open', 'high', 'low', 'close'\n",
    "                    ).where(\n",
    "                        col(\"market_cap_calc\") >= 10 ** 8,\n",
    "                        # col('SMA200') > col(\"close\"),\n",
    "                        # col('SMA50') > col(\"SMA200\"),\n",
    "                        # col(\"RSI\").between(35, 65),\n",
    "                        # col(\"MACD.macd\") > col(\"MACD.signal\")\n",
    "                ).limit(5).set_markets('coin').get_scanner_data()\n",
    "ticker_count    "
   ]
  },
  {
   "cell_type": "code",
   "execution_count": null,
   "metadata": {},
   "outputs": [],
   "source": []
  }
 ],
 "metadata": {
  "kernelspec": {
   "display_name": "crypto",
   "language": "python",
   "name": "python3"
  },
  "language_info": {
   "codemirror_mode": {
    "name": "ipython",
    "version": 3
   },
   "file_extension": ".py",
   "mimetype": "text/x-python",
   "name": "python",
   "nbconvert_exporter": "python",
   "pygments_lexer": "ipython3",
   "version": "3.11.5"
  }
 },
 "nbformat": 4,
 "nbformat_minor": 2
}
