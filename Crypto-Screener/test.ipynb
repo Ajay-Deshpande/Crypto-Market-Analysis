{
 "cells": [
  {
   "cell_type": "code",
   "execution_count": 111,
   "metadata": {},
   "outputs": [
    {
     "data": {
      "text/plain": [
       "49"
      ]
     },
     "execution_count": 111,
     "metadata": {},
     "output_type": "execute_result"
    }
   ],
   "source": [
    "from tradingview_screener import Query, col\n",
    "\n",
    "ticker_count, df = Query().select('market_cap_calc', 'name', 'volume', 'open', 'high', 'low', 'close'\n",
    "                    ).where(\n",
    "                        col(\"market_cap_calc\") >= 10 ** 8,\n",
    "                        col('SMA200') > col(\"close\"),\n",
    "                        col('SMA50') > col(\"SMA200\"),\n",
    "                        col(\"RSI\").between(30, 75),\n",
    "                ).limit(5).set_markets('coin').get_scanner_data()\n",
    "ticker_count    "
   ]
  }
 ],
 "metadata": {
  "kernelspec": {
   "display_name": "crypto",
   "language": "python",
   "name": "python3"
  },
  "language_info": {
   "codemirror_mode": {
    "name": "ipython",
    "version": 3
   },
   "file_extension": ".py",
   "mimetype": "text/x-python",
   "name": "python",
   "nbconvert_exporter": "python",
   "pygments_lexer": "ipython3",
   "version": "3.11.5"
  }
 },
 "nbformat": 4,
 "nbformat_minor": 2
}
