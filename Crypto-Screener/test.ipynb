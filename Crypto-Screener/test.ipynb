{
 "cells": [
  {
   "cell_type": "code",
   "execution_count": null,
   "metadata": {},
   "outputs": [],
   "source": [
    "import yfinance\n",
    "import pandas as pd\n"
   ]
  },
  {
   "cell_type": "code",
   "execution_count": null,
   "metadata": {},
   "outputs": [],
   "source": [
    "tickers = yfinance.Tickers(['BTC-USD', 'ETH-USD'])\n",
    "df = tickers.download()"
   ]
  },
  {
   "cell_type": "code",
   "execution_count": 28,
   "metadata": {},
   "outputs": [
    {
     "data": {
      "text/plain": [
       "dict_keys(['companyOfficers', 'name', 'startDate', 'description', 'executiveTeam', 'maxAge', 'priceHint', 'previousClose', 'open', 'dayLow', 'dayHigh', 'regularMarketPreviousClose', 'regularMarketOpen', 'regularMarketDayLow', 'regularMarketDayHigh', 'volume', 'regularMarketVolume', 'averageVolume', 'averageVolume10days', 'averageDailyVolume10Day', 'marketCap', 'fiftyTwoWeekLow', 'fiftyTwoWeekHigh', 'fiftyDayAverage', 'twoHundredDayAverage', 'currency', 'fromCurrency', 'toCurrency', 'lastMarket', 'coinMarketCapLink', 'volume24Hr', 'volumeAllCurrencies', 'circulatingSupply', 'tradeable', 'quoteType', 'symbol', 'language', 'region', 'typeDisp', 'quoteSourceName', 'triggerable', 'customPriceAlertConfidence', 'hasPrePostMarketData', 'firstTradeDateMilliseconds', 'regularMarketChange', 'regularMarketDayRange', 'fullExchangeName', 'averageDailyVolume3Month', 'coinImageUrl', 'logoUrl', 'fiftyTwoWeekLowChange', 'fiftyTwoWeekLowChangePercent', 'fiftyTwoWeekRange', 'fiftyTwoWeekHighChange', 'fiftyTwoWeekHighChangePercent', 'fiftyTwoWeekChangePercent', 'fiftyDayAverageChange', 'fiftyDayAverageChangePercent', 'twoHundredDayAverageChange', 'twoHundredDayAverageChangePercent', 'sourceInterval', 'exchangeDataDelayedBy', 'cryptoTradeable', 'corporateActions', 'exchange', 'messageBoardId', 'exchangeTimezoneName', 'exchangeTimezoneShortName', 'gmtOffSetMilliseconds', 'market', 'esgPopulated', 'regularMarketChangePercent', 'regularMarketPrice', 'shortName', 'longName', 'marketState', 'regularMarketTime', 'trailingPegRatio'])"
      ]
     },
     "execution_count": 28,
     "metadata": {},
     "output_type": "execute_result"
    }
   ],
   "source": [
    "tickers.tickers['BTC-USD'].info.keys()"
   ]
  },
  {
   "cell_type": "code",
   "execution_count": null,
   "metadata": {},
   "outputs": [],
   "source": [
    "df.head()"
   ]
  },
  {
   "cell_type": "code",
   "execution_count": null,
   "metadata": {},
   "outputs": [],
   "source": [
    "df = df.stack().reset_index()"
   ]
  },
  {
   "cell_type": "code",
   "execution_count": null,
   "metadata": {},
   "outputs": [],
   "source": [
    "df.columns = df.columns.str.lower()\n",
    "df = df.set_index('date')"
   ]
  },
  {
   "cell_type": "code",
   "execution_count": null,
   "metadata": {},
   "outputs": [],
   "source": [
    "df.head()"
   ]
  },
  {
   "cell_type": "code",
   "execution_count": null,
   "metadata": {},
   "outputs": [
    {
     "data": {
      "text/html": [
       "<div>\n",
       "<style scoped>\n",
       "    .dataframe tbody tr th:only-of-type {\n",
       "        vertical-align: middle;\n",
       "    }\n",
       "\n",
       "    .dataframe tbody tr th {\n",
       "        vertical-align: top;\n",
       "    }\n",
       "\n",
       "    .dataframe thead th {\n",
       "        text-align: right;\n",
       "    }\n",
       "</style>\n",
       "<table border=\"1\" class=\"dataframe\">\n",
       "  <thead>\n",
       "    <tr style=\"text-align: right;\">\n",
       "      <th>Price</th>\n",
       "      <th>ticker</th>\n",
       "      <th>close</th>\n",
       "      <th>dividends</th>\n",
       "      <th>high</th>\n",
       "      <th>low</th>\n",
       "      <th>open</th>\n",
       "      <th>stock splits</th>\n",
       "      <th>volume</th>\n",
       "      <th>volume_adi</th>\n",
       "      <th>volume_obv</th>\n",
       "      <th>...</th>\n",
       "      <th>momentum_ppo</th>\n",
       "      <th>momentum_ppo_signal</th>\n",
       "      <th>momentum_ppo_hist</th>\n",
       "      <th>momentum_pvo</th>\n",
       "      <th>momentum_pvo_signal</th>\n",
       "      <th>momentum_pvo_hist</th>\n",
       "      <th>momentum_kama</th>\n",
       "      <th>others_dr</th>\n",
       "      <th>others_dlr</th>\n",
       "      <th>others_cr</th>\n",
       "    </tr>\n",
       "    <tr>\n",
       "      <th>date</th>\n",
       "      <th></th>\n",
       "      <th></th>\n",
       "      <th></th>\n",
       "      <th></th>\n",
       "      <th></th>\n",
       "      <th></th>\n",
       "      <th></th>\n",
       "      <th></th>\n",
       "      <th></th>\n",
       "      <th></th>\n",
       "      <th></th>\n",
       "      <th></th>\n",
       "      <th></th>\n",
       "      <th></th>\n",
       "      <th></th>\n",
       "      <th></th>\n",
       "      <th></th>\n",
       "      <th></th>\n",
       "      <th></th>\n",
       "      <th></th>\n",
       "      <th></th>\n",
       "    </tr>\n",
       "  </thead>\n",
       "  <tbody>\n",
       "    <tr>\n",
       "      <th>2025-02-02</th>\n",
       "      <td>BTC-USD</td>\n",
       "      <td>97688.976562</td>\n",
       "      <td>0.0</td>\n",
       "      <td>101430.664062</td>\n",
       "      <td>96216.078125</td>\n",
       "      <td>100661.539062</td>\n",
       "      <td>0.0</td>\n",
       "      <td>63091816853</td>\n",
       "      <td>-2.745031e+10</td>\n",
       "      <td>63091816853</td>\n",
       "      <td>...</td>\n",
       "      <td>NaN</td>\n",
       "      <td>NaN</td>\n",
       "      <td>NaN</td>\n",
       "      <td>NaN</td>\n",
       "      <td>NaN</td>\n",
       "      <td>NaN</td>\n",
       "      <td>NaN</td>\n",
       "      <td>NaN</td>\n",
       "      <td>NaN</td>\n",
       "      <td>0.000000</td>\n",
       "    </tr>\n",
       "    <tr>\n",
       "      <th>2025-02-02</th>\n",
       "      <td>ETH-USD</td>\n",
       "      <td>2868.692871</td>\n",
       "      <td>0.0</td>\n",
       "      <td>3161.894287</td>\n",
       "      <td>2755.474609</td>\n",
       "      <td>3118.611572</td>\n",
       "      <td>0.0</td>\n",
       "      <td>42060930305</td>\n",
       "      <td>-4.607702e+10</td>\n",
       "      <td>21030886548</td>\n",
       "      <td>...</td>\n",
       "      <td>NaN</td>\n",
       "      <td>NaN</td>\n",
       "      <td>NaN</td>\n",
       "      <td>NaN</td>\n",
       "      <td>NaN</td>\n",
       "      <td>NaN</td>\n",
       "      <td>NaN</td>\n",
       "      <td>-97.063443</td>\n",
       "      <td>-352.793224</td>\n",
       "      <td>-97.063443</td>\n",
       "    </tr>\n",
       "    <tr>\n",
       "      <th>2025-02-03</th>\n",
       "      <td>BTC-USD</td>\n",
       "      <td>101405.421875</td>\n",
       "      <td>0.0</td>\n",
       "      <td>102514.171875</td>\n",
       "      <td>91242.890625</td>\n",
       "      <td>97681.101562</td>\n",
       "      <td>0.0</td>\n",
       "      <td>115400897748</td>\n",
       "      <td>4.662003e+10</td>\n",
       "      <td>136431784296</td>\n",
       "      <td>...</td>\n",
       "      <td>NaN</td>\n",
       "      <td>NaN</td>\n",
       "      <td>NaN</td>\n",
       "      <td>NaN</td>\n",
       "      <td>NaN</td>\n",
       "      <td>NaN</td>\n",
       "      <td>NaN</td>\n",
       "      <td>3434.899915</td>\n",
       "      <td>356.527008</td>\n",
       "      <td>3.804365</td>\n",
       "    </tr>\n",
       "    <tr>\n",
       "      <th>2025-02-03</th>\n",
       "      <td>ETH-USD</td>\n",
       "      <td>2884.566650</td>\n",
       "      <td>0.0</td>\n",
       "      <td>2919.477295</td>\n",
       "      <td>2159.280518</td>\n",
       "      <td>2868.078613</td>\n",
       "      <td>0.0</td>\n",
       "      <td>92453553253</td>\n",
       "      <td>1.305821e+11</td>\n",
       "      <td>43978231043</td>\n",
       "      <td>...</td>\n",
       "      <td>NaN</td>\n",
       "      <td>NaN</td>\n",
       "      <td>NaN</td>\n",
       "      <td>NaN</td>\n",
       "      <td>NaN</td>\n",
       "      <td>NaN</td>\n",
       "      <td>NaN</td>\n",
       "      <td>-97.155412</td>\n",
       "      <td>-355.975188</td>\n",
       "      <td>-97.047193</td>\n",
       "    </tr>\n",
       "    <tr>\n",
       "      <th>2025-02-04</th>\n",
       "      <td>BTC-USD</td>\n",
       "      <td>97871.820312</td>\n",
       "      <td>0.0</td>\n",
       "      <td>101745.617188</td>\n",
       "      <td>96208.109375</td>\n",
       "      <td>101398.718750</td>\n",
       "      <td>0.0</td>\n",
       "      <td>73002130211</td>\n",
       "      <td>1.014460e+11</td>\n",
       "      <td>116980361254</td>\n",
       "      <td>...</td>\n",
       "      <td>NaN</td>\n",
       "      <td>NaN</td>\n",
       "      <td>NaN</td>\n",
       "      <td>NaN</td>\n",
       "      <td>NaN</td>\n",
       "      <td>NaN</td>\n",
       "      <td>NaN</td>\n",
       "      <td>3292.947093</td>\n",
       "      <td>352.428399</td>\n",
       "      <td>0.187169</td>\n",
       "    </tr>\n",
       "  </tbody>\n",
       "</table>\n",
       "<p>5 rows × 94 columns</p>\n",
       "</div>"
      ],
      "text/plain": [
       "Price        ticker          close  dividends           high           low  \\\n",
       "date                                                                         \n",
       "2025-02-02  BTC-USD   97688.976562        0.0  101430.664062  96216.078125   \n",
       "2025-02-02  ETH-USD    2868.692871        0.0    3161.894287   2755.474609   \n",
       "2025-02-03  BTC-USD  101405.421875        0.0  102514.171875  91242.890625   \n",
       "2025-02-03  ETH-USD    2884.566650        0.0    2919.477295   2159.280518   \n",
       "2025-02-04  BTC-USD   97871.820312        0.0  101745.617188  96208.109375   \n",
       "\n",
       "Price                open  stock splits        volume    volume_adi  \\\n",
       "date                                                                  \n",
       "2025-02-02  100661.539062           0.0   63091816853 -2.745031e+10   \n",
       "2025-02-02    3118.611572           0.0   42060930305 -4.607702e+10   \n",
       "2025-02-03   97681.101562           0.0  115400897748  4.662003e+10   \n",
       "2025-02-03    2868.078613           0.0   92453553253  1.305821e+11   \n",
       "2025-02-04  101398.718750           0.0   73002130211  1.014460e+11   \n",
       "\n",
       "Price         volume_obv  ...  momentum_ppo  momentum_ppo_signal  \\\n",
       "date                      ...                                      \n",
       "2025-02-02   63091816853  ...           NaN                  NaN   \n",
       "2025-02-02   21030886548  ...           NaN                  NaN   \n",
       "2025-02-03  136431784296  ...           NaN                  NaN   \n",
       "2025-02-03   43978231043  ...           NaN                  NaN   \n",
       "2025-02-04  116980361254  ...           NaN                  NaN   \n",
       "\n",
       "Price       momentum_ppo_hist  momentum_pvo  momentum_pvo_signal  \\\n",
       "date                                                               \n",
       "2025-02-02                NaN           NaN                  NaN   \n",
       "2025-02-02                NaN           NaN                  NaN   \n",
       "2025-02-03                NaN           NaN                  NaN   \n",
       "2025-02-03                NaN           NaN                  NaN   \n",
       "2025-02-04                NaN           NaN                  NaN   \n",
       "\n",
       "Price       momentum_pvo_hist  momentum_kama    others_dr  others_dlr  \\\n",
       "date                                                                    \n",
       "2025-02-02                NaN            NaN          NaN         NaN   \n",
       "2025-02-02                NaN            NaN   -97.063443 -352.793224   \n",
       "2025-02-03                NaN            NaN  3434.899915  356.527008   \n",
       "2025-02-03                NaN            NaN   -97.155412 -355.975188   \n",
       "2025-02-04                NaN            NaN  3292.947093  352.428399   \n",
       "\n",
       "Price       others_cr  \n",
       "date                   \n",
       "2025-02-02   0.000000  \n",
       "2025-02-02 -97.063443  \n",
       "2025-02-03   3.804365  \n",
       "2025-02-03 -97.047193  \n",
       "2025-02-04   0.187169  \n",
       "\n",
       "[5 rows x 94 columns]"
      ]
     },
     "execution_count": 36,
     "metadata": {},
     "output_type": "execute_result"
    }
   ],
   "source": [
    "df.rank()"
   ]
  },
  {
   "cell_type": "code",
   "execution_count": null,
   "metadata": {},
   "outputs": [],
   "source": [
    "from ta import add_all_ta_features\n",
    "tdf = add_all_ta_features(df, open='open', high='high', low='low', close='close', volume='volume')"
   ]
  },
  {
   "cell_type": "code",
   "execution_count": null,
   "metadata": {},
   "outputs": [],
   "source": []
  },
  {
   "cell_type": "code",
   "execution_count": 32,
   "metadata": {},
   "outputs": [],
   "source": [
    "stock_data_cols = ['ticker', 'close', 'open', 'high', 'low', 'volume']\n",
    "volume_cols = ['volume_obv', 'volume_vwap', 'volume_mfi']\n",
    "volatility_cols = ['volatility_atr', 'volatility_bbw']\n",
    "trend_cols = ['trend_macd', 'trend_macd_signal', 'trend_ema_fast', 'trend_ema_slow', 'trend_adx']\n",
    "momentum_cols = ['momentum_rsi', 'momentum_stoch', 'momentum_roc', 'momentum_ao', 'others_dr']\n",
    "all_columns = stock_data_cols + volume_cols + volatility_cols + trend_cols + momentum_cols"
   ]
  },
  {
   "cell_type": "code",
   "execution_count": null,
   "metadata": {},
   "outputs": [
    {
     "data": {
      "text/plain": [
       "(58, 21)"
      ]
     },
     "execution_count": 34,
     "metadata": {},
     "output_type": "execute_result"
    }
   ],
   "source": [
    "tdf[all_columns].dropna(how = 'all')"
   ]
  },
  {
   "cell_type": "code",
   "execution_count": null,
   "metadata": {},
   "outputs": [],
   "source": []
  }
 ],
 "metadata": {
  "kernelspec": {
   "display_name": "crypto",
   "language": "python",
   "name": "python3"
  },
  "language_info": {
   "codemirror_mode": {
    "name": "ipython",
    "version": 3
   },
   "file_extension": ".py",
   "mimetype": "text/x-python",
   "name": "python",
   "nbconvert_exporter": "python",
   "pygments_lexer": "ipython3",
   "version": "3.11.5"
  }
 },
 "nbformat": 4,
 "nbformat_minor": 2
}
